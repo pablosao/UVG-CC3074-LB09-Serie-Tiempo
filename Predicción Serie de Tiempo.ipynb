{
 "cells": [
  {
   "cell_type": "code",
   "execution_count": 1,
   "metadata": {},
   "outputs": [],
   "source": [
    "import pandas as pd\n",
    "import numpy as np\n",
    "import matplotlib.pylab as plt\n",
    "%matplotlib inline"
   ]
  },
  {
   "cell_type": "code",
   "execution_count": 3,
   "metadata": {},
   "outputs": [
    {
     "name": "stdout",
     "output_type": "stream",
     "text": [
      "   Year  Month       Date  Passengers       trend  Forecast\n",
      "0  1949      1 1949-01-01       112.0  124.477715       NaN\n",
      "1  1949      2 1949-02-01       118.0  125.758071       NaN\n",
      "2  1949      3 1949-03-01       132.0  126.925837       NaN\n",
      "3  1949      4 1949-04-01       129.0  128.231374       NaN\n",
      "4  1949      5 1949-05-01       121.0  129.507581       NaN\n",
      "\n",
      " Data Types:\n",
      "Year                   int64\n",
      "Month                  int64\n",
      "Date          datetime64[ns]\n",
      "Passengers           float64\n",
      "trend                float64\n",
      "Forecast             float64\n",
      "dtype: object\n"
     ]
    }
   ],
   "source": [
    "data = pd.read_excel('AirlinePassengerExercise.xlsx')\n",
    "print(data.head())\n",
    "print('\\n Data Types:')\n",
    "print(data.dtypes)"
   ]
  },
  {
   "cell_type": "code",
   "execution_count": 4,
   "metadata": {},
   "outputs": [
    {
     "data": {
      "text/plain": [
       "DatetimeIndex(['1970-01-01 00:00:00.000000001',\n",
       "               '1970-01-01 00:00:00.000000002',\n",
       "               '1970-01-01 00:00:00.000000003',\n",
       "               '1970-01-01 00:00:00.000000004',\n",
       "               '1970-01-01 00:00:00.000000005',\n",
       "               '1970-01-01 00:00:00.000000006',\n",
       "               '1970-01-01 00:00:00.000000007',\n",
       "               '1970-01-01 00:00:00.000000008',\n",
       "               '1970-01-01 00:00:00.000000009',\n",
       "               '1970-01-01 00:00:00.000000010',\n",
       "               ...\n",
       "               '1970-01-01 00:00:00.000000003',\n",
       "               '1970-01-01 00:00:00.000000004',\n",
       "               '1970-01-01 00:00:00.000000005',\n",
       "               '1970-01-01 00:00:00.000000006',\n",
       "               '1970-01-01 00:00:00.000000007',\n",
       "               '1970-01-01 00:00:00.000000008',\n",
       "               '1970-01-01 00:00:00.000000009',\n",
       "               '1970-01-01 00:00:00.000000010',\n",
       "               '1970-01-01 00:00:00.000000011',\n",
       "               '1970-01-01 00:00:00.000000012'],\n",
       "              dtype='datetime64[ns]', name='Month', length=168, freq=None)"
      ]
     },
     "execution_count": 4,
     "metadata": {},
     "output_type": "execute_result"
    }
   ],
   "source": [
    "from datetime import datetime\n",
    "con=data['Month']\n",
    "data['Month']=pd.to_datetime(data['Month'])\n",
    "data.set_index('Month', inplace=True)\n",
    "#check datatype of index\n",
    "data.index"
   ]
  },
  {
   "cell_type": "code",
   "execution_count": 6,
   "metadata": {},
   "outputs": [
    {
     "data": {
      "text/plain": [
       "Month\n",
       "1970-01-01 00:00:00.000000001    112.0\n",
       "1970-01-01 00:00:00.000000002    118.0\n",
       "1970-01-01 00:00:00.000000003    132.0\n",
       "1970-01-01 00:00:00.000000004    129.0\n",
       "1970-01-01 00:00:00.000000005    121.0\n",
       "1970-01-01 00:00:00.000000006    135.0\n",
       "1970-01-01 00:00:00.000000007    148.0\n",
       "1970-01-01 00:00:00.000000008    148.0\n",
       "1970-01-01 00:00:00.000000009    136.0\n",
       "1970-01-01 00:00:00.000000010    119.0\n",
       "Name: Passengers, dtype: float64"
      ]
     },
     "execution_count": 6,
     "metadata": {},
     "output_type": "execute_result"
    }
   ],
   "source": [
    "#convert to time series:\n",
    "ts = data['Passengers']\n",
    "ts.head(10)"
   ]
  },
  {
   "cell_type": "code",
   "execution_count": 8,
   "metadata": {},
   "outputs": [
    {
     "data": {
      "text/plain": [
       "Month\n",
       "1970-01-01 00:00:00.000000001    112.0\n",
       "1970-01-01 00:00:00.000000002    118.0\n",
       "1970-01-01 00:00:00.000000003    132.0\n",
       "1970-01-01 00:00:00.000000004    129.0\n",
       "1970-01-01 00:00:00.000000005    121.0\n",
       "                                 ...  \n",
       "1970-01-01 00:00:00.000000008      NaN\n",
       "1970-01-01 00:00:00.000000009      NaN\n",
       "1970-01-01 00:00:00.000000010      NaN\n",
       "1970-01-01 00:00:00.000000011      NaN\n",
       "1970-01-01 00:00:00.000000012      NaN\n",
       "Name: Passengers, Length: 168, dtype: float64"
      ]
     },
     "execution_count": 8,
     "metadata": {},
     "output_type": "execute_result"
    }
   ],
   "source": [
    "ts['1970-01-01']"
   ]
  },
  {
   "cell_type": "code",
   "execution_count": 10,
   "metadata": {},
   "outputs": [
    {
     "name": "stderr",
     "output_type": "stream",
     "text": [
      "C:\\ProgramData\\Anaconda3\\lib\\site-packages\\pandas\\plotting\\_matplotlib\\converter.py:103: FutureWarning: Using an implicitly registered datetime converter for a matplotlib plotting method. The converter was registered by pandas on import. Future versions of pandas will require you to explicitly register matplotlib converters.\n",
      "\n",
      "To register the converters:\n",
      "\t>>> from pandas.plotting import register_matplotlib_converters\n",
      "\t>>> register_matplotlib_converters()\n",
      "  warnings.warn(msg, FutureWarning)\n"
     ]
    },
    {
     "data": {
      "text/plain": [
       "[<matplotlib.lines.Line2D at 0x1a2524bbf88>]"
      ]
     },
     "execution_count": 10,
     "metadata": {},
     "output_type": "execute_result"
    },
    {
     "data": {
      "image/png": "[encoded data removed]",
      "text/plain": [
       "<Figure size 432x288 with 1 Axes>"
      ]
     },
     "metadata": {
      "needs_background": "light"
     },
     "output_type": "display_data"
    }
   ],
   "source": [
    "plt.plot(ts)"
   ]
  },
  {
   "cell_type": "code",
   "execution_count": null,
   "metadata": {},
   "outputs": [],
   "source": []
  }
 ],
 "metadata": {
  "kernelspec": {
   "display_name": "Python 3",
   "language": "python",
   "name": "python3"
  },
  "language_info": {
   "codemirror_mode": {
    "name": "ipython",
    "version": 3
   },
   "file_extension": ".py",
   "mimetype": "text/x-python",
   "name": "python",
   "nbconvert_exporter": "python",
   "pygments_lexer": "ipython3",
   "version": "3.7.4"
  }
 },
 "nbformat": 4,
 "nbformat_minor": 4
}
